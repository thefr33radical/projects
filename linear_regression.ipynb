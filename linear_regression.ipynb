{
  "nbformat": 4,
  "nbformat_minor": 0,
  "metadata": {
    "colab": {
      "name": "linear_regression.ipynb",
      "version": "0.3.2",
      "provenance": [],
      "collapsed_sections": [],
      "include_colab_link": true
    },
    "kernelspec": {
      "name": "python3",
      "display_name": "Python 3"
    }
  },
  "cells": [
    {
      "cell_type": "markdown",
      "metadata": {
        "id": "view-in-github",
        "colab_type": "text"
      },
      "source": [
        "<a href=\"https://colab.research.google.com/github/thefr33radical/projects/blob/master/linear_regression.ipynb\" target=\"_parent\"><img src=\"https://colab.research.google.com/assets/colab-badge.svg\" alt=\"Open In Colab\"/></a>"
      ]
    },
    {
      "metadata": {
        "id": "q95zjTkespJg",
        "colab_type": "code",
        "colab": {}
      },
      "cell_type": "code",
      "source": [
        ""
      ],
      "execution_count": 0,
      "outputs": []
    },
    {
      "metadata": {
        "id": "k_6j1aM3stas",
        "colab_type": "text"
      },
      "cell_type": "markdown",
      "source": [
        "### Implementation  of Linear Regression using Least Squares method.  Optimization function is Gradient Descent.\n"
      ]
    },
    {
      "metadata": {
        "id": "HFQ2upKuxF9G",
        "colab_type": "code",
        "colab": {
          "base_uri": "https://localhost:8080/",
          "height": 476
        },
        "outputId": "4588d809-fd9c-4a1e-8a7d-cfa491435b50"
      },
      "cell_type": "code",
      "source": [
        "import pandas as pd\n",
        "import numpy as np\n",
        "from sklearn.datasets import load_boston\n",
        "\n",
        "def get_dataset():\n",
        "  \"\"\"\n",
        "  Define/ load dataset here\n",
        "  \"\"\"  \n",
        "  dataset = load_boston()\n",
        "  boston_data = pd.DataFrame(dataset.data, columns = dataset.feature_names)\n",
        "  boston_data[\"y\"] = dataset.target\n",
        "  return boston_data.iloc[:5,:]\n",
        "\n",
        "def least_squares(dataset):\n",
        "  \"\"\"\n",
        "  Function which computes the cost function of Linear Regression using Loss Function least squares\n",
        "  \"\"\"\n",
        "  n_samples = len(dataset)\n",
        "  dataset = dataset.reset_index(drop = True)\n",
        "  y = dataset[\"y\"]\n",
        "  features = dataset.copy()\n",
        "  features.drop([\"y\"],axis=1, inplace =True)\n",
        "  \n",
        "  \n",
        "  features = features.T\n",
        "  print(features)\n",
        "  features = np.array(features.as_matrix())\n",
        "  print(features)\n",
        "  \n",
        "  coeff = numpy.array()\n",
        "  \n",
        "  for \n",
        "  yp = 0\n",
        "  \n",
        "  y_predicted = (yp)/n_samples\n",
        "  return y_predicted\n",
        "  \n",
        "if __name__==\"__main__\":\n",
        "  data = get_dataset()\n",
        "  least_squares(data)\n",
        "  "
      ],
      "execution_count": 41,
      "outputs": [
        {
          "output_type": "stream",
          "text": [
            "                 0          1          2          3          4\n",
            "CRIM       0.00632    0.02731    0.02729    0.03237    0.06905\n",
            "ZN        18.00000    0.00000    0.00000    0.00000    0.00000\n",
            "INDUS      2.31000    7.07000    7.07000    2.18000    2.18000\n",
            "CHAS       0.00000    0.00000    0.00000    0.00000    0.00000\n",
            "NOX        0.53800    0.46900    0.46900    0.45800    0.45800\n",
            "RM         6.57500    6.42100    7.18500    6.99800    7.14700\n",
            "AGE       65.20000   78.90000   61.10000   45.80000   54.20000\n",
            "DIS        4.09000    4.96710    4.96710    6.06220    6.06220\n",
            "RAD        1.00000    2.00000    2.00000    3.00000    3.00000\n",
            "TAX      296.00000  242.00000  242.00000  222.00000  222.00000\n",
            "PTRATIO   15.30000   17.80000   17.80000   18.70000   18.70000\n",
            "B        396.90000  396.90000  392.83000  394.63000  396.90000\n",
            "LSTAT      4.98000    9.14000    4.03000    2.94000    5.33000\n",
            "[[6.3200e-03 2.7310e-02 2.7290e-02 3.2370e-02 6.9050e-02]\n",
            " [1.8000e+01 0.0000e+00 0.0000e+00 0.0000e+00 0.0000e+00]\n",
            " [2.3100e+00 7.0700e+00 7.0700e+00 2.1800e+00 2.1800e+00]\n",
            " [0.0000e+00 0.0000e+00 0.0000e+00 0.0000e+00 0.0000e+00]\n",
            " [5.3800e-01 4.6900e-01 4.6900e-01 4.5800e-01 4.5800e-01]\n",
            " [6.5750e+00 6.4210e+00 7.1850e+00 6.9980e+00 7.1470e+00]\n",
            " [6.5200e+01 7.8900e+01 6.1100e+01 4.5800e+01 5.4200e+01]\n",
            " [4.0900e+00 4.9671e+00 4.9671e+00 6.0622e+00 6.0622e+00]\n",
            " [1.0000e+00 2.0000e+00 2.0000e+00 3.0000e+00 3.0000e+00]\n",
            " [2.9600e+02 2.4200e+02 2.4200e+02 2.2200e+02 2.2200e+02]\n",
            " [1.5300e+01 1.7800e+01 1.7800e+01 1.8700e+01 1.8700e+01]\n",
            " [3.9690e+02 3.9690e+02 3.9283e+02 3.9463e+02 3.9690e+02]\n",
            " [4.9800e+00 9.1400e+00 4.0300e+00 2.9400e+00 5.3300e+00]]\n"
          ],
          "name": "stdout"
        }
      ]
    },
    {
      "metadata": {
        "id": "7LrtPpOjgDIH",
        "colab_type": "code",
        "colab": {}
      },
      "cell_type": "code",
      "source": [
        ""
      ],
      "execution_count": 0,
      "outputs": []
    },
    {
      "metadata": {
        "id": "-C76SIx-f_cO",
        "colab_type": "code",
        "colab": {}
      },
      "cell_type": "code",
      "source": [
        ""
      ],
      "execution_count": 0,
      "outputs": []
    }
  ]
}