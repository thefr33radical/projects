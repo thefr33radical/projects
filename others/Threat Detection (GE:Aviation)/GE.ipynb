{
  "nbformat": 4,
  "nbformat_minor": 0,
  "metadata": {
    "colab": {
      "name": "GE.ipynb",
      "provenance": [],
      "include_colab_link": true
    },
    "kernelspec": {
      "name": "python3",
      "display_name": "Python 3"
    },
    "accelerator": "TPU"
  },
  "cells": [
    {
      "cell_type": "markdown",
      "metadata": {
        "id": "view-in-github",
        "colab_type": "text"
      },
      "source": [
        "<a href=\"https://colab.research.google.com/github/thefr33radical/projects/blob/master/others/Threat%20Detection%20(GE%3AAviation)/GE.ipynb\" target=\"_parent\"><img src=\"https://colab.research.google.com/assets/colab-badge.svg\" alt=\"Open In Colab\"/></a>"
      ]
    },
    {
      "cell_type": "code",
      "metadata": {
        "id": "e2nuPP3XLPBL",
        "colab_type": "code",
        "outputId": "d1248a1f-4032-4fbd-a1c5-0b7c1652666f",
        "colab": {
          "base_uri": "https://localhost:8080/",
          "height": 34
        }
      },
      "source": [
        "from dask import dataframe as dd \n",
        "from google.colab import drive, files\n",
        "import pandas as pd\n",
        "import plotly.express as px\n",
        "import io\n",
        "import plotly.graph_objects as go\n",
        "from collections import Counter\n",
        "from sklearn import preprocessing\n",
        "import numpy as np\n",
        "try:\n",
        "  import cPickle as pk\n",
        "except:\n",
        "  import pickle as pk\n",
        "\n",
        "def upload():\n",
        "  up=files.upload()\n",
        "  filename=up.keys()\n",
        "  dat=pd.read_csv(io.BytesIO(upload[filename]))\n",
        "  return dat\n",
        "\n",
        "def mount_drive():\n",
        "  drive.mount('/content/drive')\n",
        " \n",
        "def func(a,b):\n",
        "  \n",
        "  if a==\"TP\" and b==\"yes\":\n",
        "    return \"TN\"\n",
        "  if a==\"TP\" and b==\"no\":\n",
        "    return \"TP\"\n",
        "\n",
        "  if a==\"TP/LOW\" and b==\"yes\":\n",
        "    return \"TN\"\n",
        "  if a==\"TP/HIGH\"  and b==\"yes\":\n",
        "    return \"TN\"\n",
        "\n",
        "  if a==\"TP/LOW\"  and b==\"no\":\n",
        "    return \"TP\"\n",
        "  if a==\"TP/HIGH\"  and b==\"no\":\n",
        "    return \"TP\"\n",
        "\n",
        "  if a==\"FP\"  and b==\"no\":\n",
        "    return \"FP\"\n",
        "  if a==\"FP\"  and b==\"yes\":\n",
        "    return \"FN\"\n",
        "  else: \n",
        "    return \"UNK\"\n",
        "\n",
        "def preprocess(data):\n",
        "  data[\"NEW_TYPE_NAME\"] = data.apply(lambda x: func(x[\"TYPE_NAME\"],x[\"MALICIOUS\"]),axis=1)\n",
        "  print(data.groupby(\"NEW_TYPE_NAME\"))\n",
        "  return data \n",
        "\n",
        "\n",
        "#alerts_indicators.to_parquet('/content/drive/My Drive/GE/alerts_indicators.parquet.gzip',compression='gzip')\n",
        "\n",
        "def EDA(data=None):\n",
        "  alerts_indicators = pd.read_csv(\"/content/drive/My Drive/GE/alerts_by_indicators(1).csv\")\n",
        "\n",
        "  dd_alerts = dd.from_pandas(alerts_indicators, npartitions=5)\n",
        "  alerts_indicators2=preprocess(alerts_indicators)\n",
        "  print(alerts_indicators2)\n",
        "\n",
        "  grps=Counter(alerts_indicators[\"TYPE_NAME\"].values)\n",
        "  \n",
        "  grps2=Counter(alerts_indicators2[\"NEW_TYPE_NAME\"].values)\n",
        "\n",
        "  layout = go.Layout(    autosize=False,    width=500,    height=500,    margin=go.layout.Margin(      l=50,        r=50,        b=100,        t=100,        pad=4))\n",
        "\n",
        "  fig = go.Figure(\n",
        "    data=[ go.Pie(\n",
        "    labels=list(grps.keys()),\n",
        "    values=list(grps.values())\n",
        "    )\n",
        "    ],\n",
        "    layout=layout  )\n",
        "  print(grps)\n",
        "  fig.show()\n",
        "\n",
        "  fig = go.Figure(\n",
        "    data=[ go.Pie(\n",
        "    labels=list(grps2.keys()),\n",
        "    values=list(grps2.values())\n",
        "    )\n",
        "    ],\n",
        "    layout=layout )\n",
        "  color= ['gold', 'mediumturquoise', 'darkorange', 'lightgreen',\"black\"]\n",
        "  fig.update_traces(marker=dict(colors=color, line=dict(color='white', width=3)))\n",
        "  print(grps2)\n",
        "  fig.show()\n",
        "\n",
        "\n",
        "def merge_tables(table1=None,table2=None):\n",
        "  alerts_indicators = pd.read_csv(\"/content/drive/My Drive/GE/alerts_by_indicators(1).csv\")\n",
        "  demographics=  pd.read_csv(\"/content/drive/My Drive/GE/demographics(1).csv\",encoding = \"ISO-8859-1\")\n",
        "  final_tb  =demographics.merge(alerts_indicators, how=\"inner\", on=\"EMPLOYEE_ID\")\n",
        "  print(len(final_tb),final_tb.columns)\n",
        "  final_tb.to_csv(\"/content/drive/My Drive/GE/final_tb.csv\")\n",
        "  final_tb.to_parquet('/content/drive/My Drive/GE/final_tb.parquet.gzip',compression='gzip')\n",
        "\n",
        "def preproc():\n",
        "  lbl_arr=[]\n",
        "  data=pd.read_parquet('/content/drive/My Drive/GE/final_tb.parquet.gzip')\n",
        "\n",
        "  for i in data.columns:\n",
        "    data[i].fillna(value=0,inplace=True)\n",
        " \n",
        "\n",
        "  data.drop(['INSERT_DATE','ALERT_ESCALATION_DATE','ALERT_ID_FK','INDICATORS','GE_HIRE_DATE'],inplace=True,axis=1)\n",
        "  data[data.columns] = data[data.columns].astype(str) \n",
        "  print(data.head())\n",
        "\n",
        "  for i in data.columns:    \n",
        "    if len(set(data[i].values)) < 1001:\n",
        "       try:\n",
        "          lbl = preprocessing.LabelEncoder()\n",
        "          lbl.fit(data[i])\n",
        "          data[i]=lbl.transform(data[i])\n",
        "          #print(i,set(data[i].values))\n",
        "          lbl_arr.append(lbl)\n",
        "       except Exception as e:\n",
        "          print(\"----\",i,e)\n",
        "    else:\n",
        "      print(len(set(data[i].values)),i)\n",
        "\n",
        "  #pk.dumps(\"/content/drive/My Drive/GE/lbl_arr.dat\")\n",
        "  data.to_csv(\"/content/drive/My Drive/GE/preprocesss_final_tb.csv\",index=False,header=True)\n",
        "  data.to_parquet('/content/drive/My Drive/GE/preprocess_final_tb.parquet.gzip',compression='gzip')\n",
        "  \n",
        "\n",
        "mount_drive()\n",
        "#EDA()\n",
        "\n",
        "#merge_tables()\n",
        "#preproc()\n"
      ],
      "execution_count": 4,
      "outputs": [
        {
          "output_type": "stream",
          "text": [
            "Drive already mounted at /content/drive; to attempt to forcibly remount, call drive.mount(\"/content/drive\", force_remount=True).\n"
          ],
          "name": "stdout"
        }
      ]
    },
    {
      "cell_type": "markdown",
      "metadata": {
        "id": "kCtKkybifrf2",
        "colab_type": "text"
      },
      "source": [
        ""
      ]
    },
    {
      "cell_type": "code",
      "metadata": {
        "id": "w8cQ_Ay_fsGk",
        "colab_type": "code",
        "colab": {}
      },
      "source": [
        "!pip install partd\n",
        "!pip install toolz\n"
      ],
      "execution_count": 0,
      "outputs": []
    },
    {
      "cell_type": "code",
      "metadata": {
        "colab_type": "code",
        "id": "Y-mhdQJv_f0x",
        "colab": {}
      },
      "source": [
        "from google.colab import drive\n",
        "drive.mount('/gdrive')\n",
        "%cd /gdrive"
      ],
      "execution_count": 0,
      "outputs": []
    },
    {
      "cell_type": "code",
      "metadata": {
        "colab_type": "code",
        "id": "b6BTCBKN_e0v",
        "colab": {}
      },
      "source": [
        "#@title Default title text\n",
        "import plotly.express as px\n",
        "\n",
        "data=pd.read_parquet('/content/drive/My Drive/GE/preprocess_final_tb.parquet.gzip')\n",
        "#data2=pd.read_parquet('/content/drive/My Drive/GE/final_tb.parquet.gzip')\n",
        "data[data.columns] = data[data.columns].astype(float) \n",
        "data[data.columns] = data[data.columns].astype(float) \n",
        "fig = px.scatter(data, x=\"RISK_FACTOR\", y=\"INDICATOR_HEAT_SCORE\",color=\"RISK_FACTOR\",\n",
        "           hover_name=\"MALICIOUS\", log_x=True, size_max=60,height=500,width=1200)\n",
        "#fig.show()\n"
      ],
      "execution_count": 0,
      "outputs": []
    },
    {
      "cell_type": "code",
      "metadata": {
        "id": "jrjFsaSNALKl",
        "colab_type": "code",
        "colab": {
          "base_uri": "https://localhost:8080/",
          "height": 87
        },
        "outputId": "ca379096-491d-4166-8f55-597474433ca3"
      },
      "source": [
        "import xgboost as xgb\n",
        "from sklearn.model_selection import train_test_split\n",
        "from sklearn.metrics import mean_squared_error\n",
        "import pandas as pd\n",
        "import numpy as np\n",
        "\n",
        "\n",
        "y=data.loc[:,\"CLASSIFICATION\"].copy(deep=True)\n",
        "data.drop([\"CLASSIFICATION\",'TYPE_NAME'],inplace=True,axis=1)\n",
        "x=data.loc[:,:].copy(deep=True)\n",
        "data_dmatrix = xgb.DMatrix(data=x,label=y)\n",
        "\n",
        "X_train, X_test, y_train, y_test = train_test_split(x, y, test_size=0.5, random_state=123)\n",
        "xg_tree = xgb.XGBClassifier(learning_rate = 0.1, max_depth = 5, alpha = 10, n_estimators = 10)\n",
        "\n",
        "xg_tree.fit(X_train,y_train)\n",
        "predicted = xg_tree.predict(X_test)\n"
      ],
      "execution_count": 49,
      "outputs": [
        {
          "output_type": "stream",
          "text": [
            "/usr/local/lib/python3.6/dist-packages/xgboost/core.py:587: FutureWarning:\n",
            "\n",
            "Series.base is deprecated and will be removed in a future version\n",
            "\n"
          ],
          "name": "stderr"
        }
      ]
    },
    {
      "cell_type": "code",
      "metadata": {
        "id": "IP3K-KFNGTrH",
        "colab_type": "code",
        "colab": {
          "base_uri": "https://localhost:8080/",
          "height": 1000
        },
        "outputId": "c1d3e92b-4483-4ce1-81f8-dfbf214ce182"
      },
      "source": [
        "print(predicted)\n",
        "\n",
        "from sklearn.metrics import confusion_matrix,accuracy_score\n",
        "import seaborn as sns\n",
        "from matplotlib import rcParams\n",
        "\n",
        "# figure size in inches\n",
        "rcParams['figure.figsize'] = 12.7,8.27\n",
        "\n",
        "conf=confusion_matrix(predicted,y_test)\n",
        "conf=pd.DataFrame(conf)\n",
        "print(conf)\n",
        "print(accuracy_score(predicted,y_test))\n",
        "\n",
        "#xgb.plot_importance(xg_tree)\n",
        "#plt.rcParams['figure.figsize'] = [5, 5]\n",
        "ax = sns.heatmap(conf,cbar=False,linewidths=1.5,center=0,cmap=\"YlGnBu\",annot=True)\n",
        "xgb.plot_importance(xg_tree)\n"
      ],
      "execution_count": 66,
      "outputs": [
        {
          "output_type": "stream",
          "text": [
            "[1. 0. 1. ... 0. 1. 1.]\n",
            "       0      1     2     3\n",
            "0  32394      0     0    77\n",
            "1      9  49829    60   953\n",
            "2      1     37  1974  1076\n",
            "3      0     54    59  3584\n",
            "0.9741862452417681\n"
          ],
          "name": "stdout"
        },
        {
          "output_type": "execute_result",
          "data": {
            "text/plain": [
              "<matplotlib.axes._subplots.AxesSubplot at 0x7f7bf76d85c0>"
            ]
          },
          "metadata": {
            "tags": []
          },
          "execution_count": 66
        },
        {
          "output_type": "display_data",
          "data": {
            "image/png": "[encoded data removed]",
            "text/plain": [
              "<Figure size 914.4x595.44 with 1 Axes>"
            ]
          },
          "metadata": {
            "tags": []
          }
        },
        {
          "output_type": "display_data",
          "data": {
            "image/png": "[encoded data removed]",
            "text/plain": [
              "<Figure size 914.4x595.44 with 1 Axes>"
            ]
          },
          "metadata": {
            "tags": []
          }
        }
      ]
    }
  ]
}