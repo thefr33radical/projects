{
 "cells": [
  {
   "cell_type": "markdown",
   "metadata": {},
   "source": [
    "### <b> Computational Graphs and Backpropagation</b>\n",
    "\n",
    "Doesn't Tensorflow perform backprop automatically?\n",
    "Deep learning frameworks such as Tensorflow and Torch perform backpropagation and gradient descent automatically. So, why do we need to understand it?\n",
    "<br>\n",
    "The answer is, because although the calculations are abstracted out by libraries, gradient descent on neural networks is susceptible to various issues such as vanishing gradients, dead neurons, etc. When we are trying to train a neural network and we face these problems, we will not be able to resolve it unless we understand whats going on behind the scenes.\n",
    "<br>\n",
    "<b>Why computational graphs?</b><br>\n",
    "Computational graph is how backpropagation is implemented in deep learning frameworks like Tensorflow, Torch, Theano, etc. More importantly, understanding backpropagation on computational graphs unites multiple different backpropagation algorithms and its variations (such as backprop through time, backprop with shared weights). Once you convert everything to a computational graph, they are all the same algorithm - just backpropagation on computational graphs.\n",
    "<br>\n",
    "<b>Computational Graph, What is it?</b><br>\n",
    "A computational graph is a directed graph where the nodes correspond to mathematical operations. It is a way of expressing and evaluating a mathematical expression.\n",
    "<br>\n"
   ]
  },
  {
   "cell_type": "code",
   "execution_count": 5,
   "metadata": {},
   "outputs": [
    {
     "data": {
      "image/png": "[encoded data removed]",
      "text/plain": [
       "<IPython.core.display.Image object>"
      ]
     },
     "execution_count": 5,
     "metadata": {},
     "output_type": "execute_result"
    }
   ],
   "source": [
    "import math\n",
    "from  IPython.display import Image\n",
    "import numpy as np\n",
    "import os\n",
    "import random\n",
    "Image(filename=os.getcwd()+\"/images/comp1.png\")"
   ]
  },
  {
   "cell_type": "markdown",
   "metadata": {},
   "source": [
    "For example, above is a simple mathematical equation.<br>\n",
    "<b>q=x+y</b><br>\n",
    "Let's take another example, slightly more complex. We have the following equation.<br>\n",
    "<b>f=(x+y)∗z</b><br>\n",
    "Which is represented by the following computational graph."
   ]
  },
  {
   "cell_type": "code",
   "execution_count": 6,
   "metadata": {},
   "outputs": [
    {
     "data": {
      "image/png": "[encoded data removed]",
      "text/plain": [
       "<IPython.core.display.Image object>"
      ]
     },
     "execution_count": 6,
     "metadata": {},
     "output_type": "execute_result"
    }
   ],
   "source": [
    "Image(filename=os.getcwd()+\"/images/comp2.png\")"
   ]
  },
  {
   "cell_type": "markdown",
   "metadata": {},
   "source": [
    "### Forward pass\n",
    "Forward pass is the procedure for evaluating the value of the mathematical expression represented by computational graphs. Doing forward pass means we are passing the value from variables in forward direction (toward node's output).\n",
    "\n",
    "Let's take an example by giving some value to all of the inputs. Suppose, the following values are given to all of the inputs.\n",
    "\n",
    "x\n",
    "=\n",
    "2\n",
    ",\n",
    "y\n",
    "=\n",
    "3\n",
    ",\n",
    "z\n",
    "=\n",
    "−\n",
    "4\n",
    "By giving those values to the inputs we could do forward pass and get the following values for the outputs on each node.<br>\n",
    "First, we use the value of x = 2 and y = 3, to get q = 5. Then we use q = 5 and z = -4 to get f = -20. We go from left to right, forwards."
   ]
  },
  {
   "cell_type": "code",
   "execution_count": 7,
   "metadata": {},
   "outputs": [
    {
     "data": {
      "image/png": "[encoded data removed]",
      "text/plain": [
       "<IPython.core.display.Image object>"
      ]
     },
     "execution_count": 7,
     "metadata": {},
     "output_type": "execute_result"
    }
   ],
   "source": [
    "Image(filename=os.getcwd()+\"/images/comp3.png\")"
   ]
  },
  {
   "cell_type": "markdown",
   "metadata": {},
   "source": [
    "### Backward Pass (backpropagation)\n",
    "In the backward pass, our goal is to calculate the gradients for each input with respect to the final output. These gradients are required for training the neural network using gradient descent.\n",
    "\n",
    "For our running example, we desire the following gradients.\n",
    "\n",
    "\n",
    ":\n",
    "∂\n",
    "f/\n",
    "∂\n",
    "x\n",
    ",\n",
    " \n",
    "∂\n",
    "f/\n",
    "∂\n",
    "y\n",
    ",\n",
    " \n",
    "∂\n",
    "f/\n",
    "∂\n",
    "z\n",
    "<br>\n",
    "Backward pass (backpropagation)\n",
    "We start the backward pass by derivating the final output with respect to the final output (itself!). Thus, it will result in the identity derivation and the value is equal to one.\n",
    "\n",
    "∂\n",
    "f\n",
    "∂\n",
    "f\n",
    "=\n",
    "1\n",
    "<br>\n",
    "i.e. our computational graph now looks as follows,"
   ]
  },
  {
   "cell_type": "code",
   "execution_count": 8,
   "metadata": {},
   "outputs": [
    {
     "data": {
      "image/png": "[encoded data removed]",
      "text/plain": [
       "<IPython.core.display.Image object>"
      ]
     },
     "execution_count": 8,
     "metadata": {},
     "output_type": "execute_result"
    }
   ],
   "source": [
    "Image(filename=os.getcwd()+\"/images/comp4.png\")"
   ]
  },
  {
   "cell_type": "markdown",
   "metadata": {},
   "source": [
    "Next, we will do the backward pass through the \"*\" operation, i.e. we'll calculate the gradients at q and z. Since f = q*z, we know that\n",
    "\n",
    "∂\n",
    "f\n",
    "∂\n",
    "q\n",
    "=\n",
    "z\n",
    ",\n",
    " \n",
    "∂\n",
    "f\n",
    "∂\n",
    "z\n",
    "=\n",
    "q\n",
    "We already know the values of z and q from the forward pass. Hence, we get\n",
    "\n",
    "∂\n",
    "f\n",
    "∂\n",
    "z\n",
    "=\n",
    "q\n",
    "=\n",
    "5\n",
    "and\n",
    "\n",
    "∂\n",
    "f\n",
    "∂\n",
    "q\n",
    "=\n",
    "z\n",
    "=\n",
    "−\n",
    "4\n",
    "So the graph now looks as follows:"
   ]
  },
  {
   "cell_type": "code",
   "execution_count": 9,
   "metadata": {},
   "outputs": [
    {
     "data": {
      "image/png": "[encoded data removed]",
      "text/plain": [
       "<IPython.core.display.Image object>"
      ]
     },
     "execution_count": 9,
     "metadata": {},
     "output_type": "execute_result"
    }
   ],
   "source": [
    "Image(filename=os.getcwd()+\"/images/comp5.png\")"
   ]
  },
  {
   "cell_type": "markdown",
   "metadata": {},
   "source": [
    "Now comes the interesting part. We want to calculate the gradients at x and y, i.e.\n",
    "\n",
    "∂\n",
    "f\n",
    "∂\n",
    "x\n",
    ",\n",
    " \n",
    "∂\n",
    "f\n",
    "∂\n",
    "y\n",
    "but we want to do this efficiently (although x and f are only two hops away in this graph, imagine them being really far from each other). To calculate these values efficiently, we'll use the chain rule of differentiation. From chain rule, we have\n",
    "\n",
    "∂\n",
    "f\n",
    "∂\n",
    "x\n",
    "=\n",
    "∂\n",
    "f\n",
    "∂\n",
    "q\n",
    "∂\n",
    "q\n",
    "∂\n",
    "x\n",
    " \n",
    " \n",
    " \n",
    " \n",
    " \n",
    " \n",
    " \n",
    " \n",
    " \n",
    "∂\n",
    "f\n",
    "∂\n",
    "y\n",
    "=\n",
    "∂\n",
    "f\n",
    "∂\n",
    "q\n",
    "∂\n",
    "q\n",
    "∂\n",
    "y\n",
    "But we already know the df/dq = -4 (which is the difficult term to calculate here if the graph is large). dq/dx and dq/dy are easy since q directly depends on x and y. We have,\n",
    "\n",
    "q\n",
    "=\n",
    "x\n",
    "+\n",
    "y\n",
    " \n",
    "⇒\n",
    " \n",
    "∂\n",
    "q\n",
    "∂\n",
    "x\n",
    "=\n",
    "1\n",
    ",\n",
    " \n",
    "∂\n",
    "q\n",
    "∂\n",
    "y\n",
    "=\n",
    "1\n",
    "Hence, we get\n",
    "\n",
    "∂\n",
    "f\n",
    "∂\n",
    "x\n",
    "=\n",
    "∂\n",
    "f\n",
    "∂\n",
    "q\n",
    "∂\n",
    "q\n",
    "∂\n",
    "x\n",
    "=\n",
    "(\n",
    "−\n",
    "4\n",
    ")\n",
    ".1\n",
    "=\n",
    "−\n",
    "4\n",
    "And for the input y.\n",
    "\n",
    "∂\n",
    "f\n",
    "∂\n",
    "y\n",
    "=\n",
    "∂\n",
    "f\n",
    "∂\n",
    "q\n",
    "∂\n",
    "q\n",
    "∂\n",
    "y\n",
    "=\n",
    "(\n",
    "−\n",
    "4\n",
    ")\n",
    ".1\n",
    "=\n",
    "−\n",
    "4\n",
    "And our final graph."
   ]
  },
  {
   "cell_type": "code",
   "execution_count": 11,
   "metadata": {},
   "outputs": [
    {
     "data": {
      "image/png": "[encoded data removed]",
      "text/plain": [
       "<IPython.core.display.Image object>"
      ]
     },
     "execution_count": 11,
     "metadata": {},
     "output_type": "execute_result"
    }
   ],
   "source": [
    "Image(filename=os.getcwd()+\"/images/comp6.png\")"
   ]
  },
  {
   "cell_type": "markdown",
   "metadata": {},
   "source": [
    "The main reason for doing this backwards is that when we had to calculate the gradient at x, we only used already computed values, and dq/dx (derivative of node output with respect to the same node's input). We used local information to compute a global value"
   ]
  },
  {
   "cell_type": "code",
   "execution_count": null,
   "metadata": {},
   "outputs": [],
   "source": []
  }
 ],
 "metadata": {
  "kernelspec": {
   "display_name": "Python 2",
   "language": "python",
   "name": "python2"
  },
  "language_info": {
   "codemirror_mode": {
    "name": "ipython",
    "version": 2
   },
   "file_extension": ".py",
   "mimetype": "text/x-python",
   "name": "python",
   "nbconvert_exporter": "python",
   "pygments_lexer": "ipython2",
   "version": "2.7.12"
  }
 },
 "nbformat": 4,
 "nbformat_minor": 2
}
