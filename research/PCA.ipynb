{
  "nbformat": 4,
  "nbformat_minor": 0,
  "metadata": {
    "colab": {
      "name": "PCA.ipynb",
      "version": "0.3.2",
      "provenance": []
    },
    "kernelspec": {
      "name": "python3",
      "display_name": "Python 3"
    }
  },
  "cells": [
    {
      "metadata": {
        "id": "i70QYPXScsjH",
        "colab_type": "code",
        "colab": {
          "base_uri": "https://localhost:8080/",
          "height": 107
        },
        "outputId": "d73baf19-0212-43ec-cfd2-96fb64e1db9e"
      },
      "cell_type": "code",
      "source": [
        "def cov_matrix(matrix):\n",
        "  matrix_mean = np.mean(matrix,axis =0)\n",
        "  cov_matrix=[len(matrix[0])*[0]]*len(matrix)\n",
        "  \n",
        "  \n",
        "  #print(cov_matrix)\n",
        "  for i in range(len(matrix)):\n",
        "    j=0\n",
        "    \n",
        "    while j < len(matrix[0]):\n",
        "      \n",
        "      cov_matrix[i][j] = ((matrix[:,j]-matrix_mean[j])*(matrix[:,i]-matrix_mean[i]))/len(matrix)\n",
        "      j+=1\n",
        "  print((cov_matrix),\"\\n\",np.cov(matrix))\n",
        "  \n",
        "  \n",
        "import numpy as np\n",
        "import pandas as pd\n",
        "matrix = np.array([[3,3,4],[4,5,6],[5,5,5]])\n",
        "matrix2=pd.DataFrame(matrix)\n",
        "# Center the columns \n",
        "avg = np.mean(matrix,axis =0)\n",
        "#print(avg)\n",
        "centered_matrix = matrix - avg\n",
        "#print(centered_matrix)\n",
        "\n",
        "#compute covariance matrix\n",
        "\n",
        "cov_matrix  = cov_matrix(matrix)\n",
        "cov_matrix = cov(matrix)\n",
        "values, eigen = np.egn\n"
      ],
      "execution_count": 42,
      "outputs": [
        {
          "output_type": "stream",
          "text": [
            "[[array([0.33333333, 0.        , 0.        ]), array([0.44444444, 0.22222222, 0.        ]), array([0.33333333, 0.33333333, 0.        ])], [array([0.33333333, 0.        , 0.        ]), array([0.44444444, 0.22222222, 0.        ]), array([0.33333333, 0.33333333, 0.        ])], [array([0.33333333, 0.        , 0.        ]), array([0.44444444, 0.22222222, 0.        ]), array([0.33333333, 0.33333333, 0.        ])]] \n",
            " [[0.33333333 0.5        0.        ]\n",
            " [0.5        1.         0.        ]\n",
            " [0.         0.         0.        ]]\n"
          ],
          "name": "stdout"
        }
      ]
    },
    {
      "metadata": {
        "id": "OvHcalNH1Tlx",
        "colab_type": "text"
      },
      "cell_type": "markdown",
      "source": [
        "https://corporatefinanceinstitute.com/resources/knowledge/finance/covariance/\n",
        "https://machinelearningmastery.com/calculate-principal-component-analysis-scratch-python/\n",
        "https://sebastianraschka.com/Articles/2014_pca_step_by_step.html"
      ]
    }
  ]
}