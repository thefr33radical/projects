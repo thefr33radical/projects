{
  "nbformat": 4,
  "nbformat_minor": 0,
  "metadata": {
    "colab": {
      "name": "page_rank.ipynb",
      "version": "0.3.2",
      "provenance": [],
      "collapsed_sections": [],
      "include_colab_link": true
    },
    "kernelspec": {
      "name": "python3",
      "display_name": "Python 3"
    }
  },
  "cells": [
    {
      "cell_type": "markdown",
      "metadata": {
        "id": "view-in-github",
        "colab_type": "text"
      },
      "source": [
        "<a href=\"https://colab.research.google.com/github/thefr33radical/projects/blob/master/research/page_rank.ipynb\" target=\"_parent\"><img src=\"https://colab.research.google.com/assets/colab-badge.svg\" alt=\"Open In Colab\"/></a>"
      ]
    },
    {
      "metadata": {
        "id": "qEDGXNNVZx4U",
        "colab_type": "text"
      },
      "cell_type": "markdown",
      "source": [
        "Implementation of Page rank Algorithm"
      ]
    },
    {
      "metadata": {
        "id": "uB1F9st4Z3Vu",
        "colab_type": "code",
        "colab": {
          "base_uri": "https://localhost:8080/",
          "height": 34
        },
        "outputId": "00140f5a-c3ba-4274-f616-0c20493453bb"
      },
      "cell_type": "code",
      "source": [
        "from collections import defaultdict\n",
        "import numpy as np\n",
        "\n",
        "  \n",
        "\n",
        "def PageRank(graph):\n",
        "  \"\"\"\n",
        "  Function which computes page rank for all the pages\n",
        "  \"\"\"\n",
        "  \n",
        "  G =defaultdict(list)\n",
        "  \n",
        "  # list of indexes which are web pages\n",
        "  pages = 10*[1]\n",
        "  \n",
        "  len_pages =10 # len(pages)\n",
        "  \n",
        "  L = np.array(len_pages*[1], dtype =float)\n",
        "  R = np.array(len_pages*[1], dtype =float)\n",
        "  \n",
        "  # Assign equal probability to each of the indexes\n",
        "  for i in range(0,len(L)):\n",
        "   L[i] = 1 /len_pages\n",
        "  print(L)\n",
        "  \n",
        "  alpha= 0.01\n",
        "  \n",
        "  while R<1.0:\n",
        "    for r in range(0,len(R)):\n",
        "      R[i] = alpha/len_pages\n",
        "    \n",
        "    for p in pages(0,len(pages)):\n",
        "      Q = set([links for links in p])\n",
        "      len_Q =len(Q)\n",
        "      \n",
        "      if len_Q>0:\n",
        "        for q in range(0,len(Q)):\n",
        "          R[q] = R[q] + ((1-alpha)*L[p])/len_Q\n",
        "      else:\n",
        "        for p in range(0,len(pages)):\n",
        "          R[p] = R[p] + ((1-alpha)* L[p])/len_pages\n",
        "    L = R\n",
        "     \n",
        "          \n",
        "if __name__==\"__main__\":\n",
        "  PageRank(0)"
      ],
      "execution_count": 24,
      "outputs": [
        {
          "output_type": "stream",
          "text": [
            "[0.1 0.1 0.1 0.1 0.1 0.1 0.1 0.1 0.1 0.1]\n"
          ],
          "name": "stdout"
        }
      ]
    },
    {
      "metadata": {
        "id": "NoMSII8xbNs1",
        "colab_type": "code",
        "colab": {}
      },
      "cell_type": "code",
      "source": [
        ""
      ],
      "execution_count": 0,
      "outputs": []
    },
    {
      "metadata": {
        "id": "sGgjFDZRbOHM",
        "colab_type": "code",
        "colab": {}
      },
      "cell_type": "code",
      "source": [
        ""
      ],
      "execution_count": 0,
      "outputs": []
    },
    {
      "metadata": {
        "id": "ZCVKpL4Maaug",
        "colab_type": "code",
        "colab": {}
      },
      "cell_type": "code",
      "source": [
        ""
      ],
      "execution_count": 0,
      "outputs": []
    }
  ]
}