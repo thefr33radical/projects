{
  "nbformat": 4,
  "nbformat_minor": 0,
  "metadata": {
    "colab": {
      "name": "variance_covariance.ipynb",
      "version": "0.3.2",
      "provenance": [],
      "include_colab_link": true
    },
    "kernelspec": {
      "name": "python3",
      "display_name": "Python 3"
    }
  },
  "cells": [
    {
      "cell_type": "markdown",
      "metadata": {
        "id": "view-in-github",
        "colab_type": "text"
      },
      "source": [
        "<a href=\"https://colab.research.google.com/github/thefr33radical/projects/blob/master/research/variance_covariance.ipynb\" target=\"_parent\"><img src=\"https://colab.research.google.com/assets/colab-badge.svg\" alt=\"Open In Colab\"/></a>"
      ]
    },
    {
      "metadata": {
        "id": "al3RLfFcNo9G",
        "colab_type": "code",
        "colab": {}
      },
      "cell_type": "code",
      "source": [
        "import numpy as np\n",
        "import matplotlib.pyplot as plt \n",
        "\n",
        "plt.style.use(\"ggplot\")\n",
        "plt.rcParams[\"figure.figsize\"] = (12,10)\n",
        "\n",
        "x =np.random.normal(0,1,500)\n",
        "y=  np.random.normal(0,1,500)\n"
      ],
      "execution_count": 0,
      "outputs": []
    },
    {
      "metadata": {
        "id": "m3xNP41pUyCo",
        "colab_type": "code",
        "colab": {}
      },
      "cell_type": "code",
      "source": [
        "\n",
        "data = np.vstack((x,y)).T\n",
        "#print(X)\n",
        "\n",
        "plt.scatter(data[:,0],data[0:,1])\n",
        "plt.title(\" Data\")\n",
        "plt.axis(\"equal\")"
      ],
      "execution_count": 0,
      "outputs": []
    },
    {
      "metadata": {
        "id": "MTSHNOX9WcBt",
        "colab_type": "text"
      },
      "cell_type": "markdown",
      "source": [
        "C =  \\begin{array}{ccc}  \\sigma_x^2 & 0 \\\\  0 & \\sigma_y^2 \\end{array} \n",
        "\n",
        "We are considering x and y as independent hene covariance is 0.\n",
        "[covariance matrix](https://datascienceplus.com/understanding-the-covariance-matrix/)\n"
      ]
    },
    {
      "metadata": {
        "id": "is-tpVs2Wf-K",
        "colab_type": "code",
        "colab": {
          "base_uri": "https://localhost:8080/",
          "height": 68
        },
        "outputId": "5265d2df-c737-4cae-bced-fd094a3e05e5"
      },
      "cell_type": "code",
      "source": [
        "x_val =data[:,0]\n",
        "y_val = data[:,1]\n",
        "\n",
        "def compute_covariance(x_val,y_val):\n",
        "  \"\"\"\n",
        "  Function to compute covariance/variance\n",
        "  return flooat\n",
        "  \"\"\"\n",
        "  x_mean = x_val.mean()\n",
        "  y_mean = y_val.mean()\n",
        "  cov = np.dot( (x_val -x_mean),(y_val-y_mean).T))/len(x_val)\n",
        "  return cov\n",
        "  \n",
        "cov_x = compute_covariance(x_val,x_val)\n",
        "print(cov_x)\n",
        "\n",
        "cov_y = compute_covariance(y_val,y_val)\n",
        "print(cov_y)\n",
        "\n",
        "cov_xy = compute_covariance(x_val,y_val)\n",
        "print(cov_xy)\n"
      ],
      "execution_count": 24,
      "outputs": [
        {
          "output_type": "stream",
          "text": [
            "1.0234095314788938\n",
            "0.9746085926278151\n",
            "-0.009747462047368944\n"
          ],
          "name": "stdout"
        }
      ]
    },
    {
      "metadata": {
        "id": "ux1IqfQQcJqu",
        "colab_type": "code",
        "colab": {}
      },
      "cell_type": "code",
      "source": [
        ""
      ],
      "execution_count": 0,
      "outputs": []
    }
  ]
}