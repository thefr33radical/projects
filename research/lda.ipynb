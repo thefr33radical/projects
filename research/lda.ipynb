{
  "nbformat": 4,
  "nbformat_minor": 0,
  "metadata": {
    "colab": {
      "name": "lda",
      "version": "0.3.2",
      "provenance": [],
      "collapsed_sections": []
    },
    "kernelspec": {
      "name": "python3",
      "display_name": "Python 3"
    }
  },
  "cells": [
    {
      "metadata": {
        "id": "rG_TBSJJ-QGU",
        "colab_type": "code",
        "outputId": "85a9f084-e904-45a4-da0b-9ccc8973d95f",
        "colab": {
          "base_uri": "https://localhost:8080/",
          "height": 208
        }
      },
      "cell_type": "code",
      "source": [
        "\n",
        "import pandas as pd\n",
        "from sklearn.preprocessing import LabelEncoder\n",
        "from collections import Counter\n",
        "import numpy as np\n",
        "from collections import defaultdict\n",
        "\n",
        "def data():\n",
        "  df = pd.io.parsers.read_csv(\n",
        "      filepath_or_buffer='https://archive.ics.uci.edu/ml/machine-learning-databases/iris/iris.data',sep=',',header=None)\n",
        "  #print(df[[4]])\n",
        "  \n",
        "  enc = LabelEncoder()\n",
        "  label_encoder = enc.fit(df[[4]])\n",
        "  df[[4]] = label_encoder.transform(df[[4]]) \n",
        "  #print(df[[4]])\n",
        "  df.columns  = [\"1\",\"2\",\"3\",\"4\",\"y\"]\n",
        "  #print(df.head)\n",
        "  return df\n",
        "  \n",
        "#computing mean vectors\n",
        "def computevector(data):  \n",
        "    listdata = data.groupby(\"y\")\n",
        "    #print(listdata.groups)\n",
        "    meanvector = listdata[\"1\",\"2\",\"3\",\"4\"].agg(np.mean)\n",
        "    \n",
        "    print(type(meanvector),meanvector)\n",
        "    meanvector.columns = [\"1\",\"2\",\"3\",\"4\"]\n",
        "    return listdata, meanvector\n",
        "  \n",
        "  \n",
        "    \"\"\"  #prin\n",
        "      print((df[[0]]))\n",
        "      if meanarray[i]:\n",
        "        meanarray[i] = [np.mean(df[[0]]), np.mean(df[[1]]),np.mean(df[[2]]),np.mean(df[[3]])]\n",
        "        \n",
        "      print(meanarray)\n",
        "       \n",
        "   \n",
        "    data = pd.DataFrame(columns = [\"1\",\"2\",\"3\",\"4\",\"y\"])\n",
        "    \n",
        "    \n",
        "    for i in range(len(x)):\n",
        "      temp =[]\n",
        "      temp = list(x[i])\n",
        "      temp.append(int(y[i]))\n",
        "      data.loc[i] = temp\n",
        "    #print(data)\n",
        "    #print(K)\n",
        "    data = pd.DataFrame()\n",
        "    temp = [[0]*len(x[0])]*K\n",
        "    print(temp)\n",
        "    lenclasses = np.array([])\n",
        "    \n",
        "    # Compute sum for each class \n",
        "    for i in range(len(x)):\n",
        "      \n",
        "      for k in set(y):\n",
        "        if y[i]==k:\n",
        "          temp[k]+=x[i]\n",
        "    \n",
        "    # Compute Means for each of the classes\n",
        "    Sum =Counter(y)\n",
        "    for i in range(len(temp)):\n",
        "      temp[i]/=Sum[i]\n",
        "      \n",
        "    return temp\n",
        "    \"\"\"\n",
        "    \n",
        "def scattermatrix(listdata,meanvector):\n",
        "  \"\"\"\n",
        "  Function to compute Scattermatrix\n",
        "  \"\"\"\n",
        "  \n",
        "  #scattermatrix has the dimensions No of classes X No of features\n",
        "  scatter_matrix =[[0]*len(meanvector([0]))]*len(listdata)\n",
        "  \n",
        "  #\n",
        "  for i in listdata:\n",
        "    data =listdata.get_group(i)\n",
        "  \n",
        "        \n",
        "      col-row[i]\n",
        "  \"\"\"\n",
        "        \n",
        "  for k in set(y):\n",
        "    \n",
        "    for i in range(len(x[0])):\n",
        "      scattermatrix[k][i]+=(meanvector[i] -x[k][i])*(meanvector[i] -x[k][i])\n",
        "  \n",
        "          \n",
        "    print(scattermatrix)\n",
        "  \"\"\" \n",
        "          \n",
        "          \n",
        "  \n",
        "\n",
        "data = data()\n",
        "listdata, meanvector = computevector(data)\n",
        "scattermatrix(listdata, meanvector)\n",
        "\n"
      ],
      "execution_count": 1,
      "outputs": [
        {
          "output_type": "stream",
          "text": [
            "<class 'pandas.core.frame.DataFrame'>        1      2      3      4\n",
            "y                            \n",
            "0  5.006  3.418  1.464  0.244\n",
            "1  5.936  2.770  4.260  1.326\n",
            "2  6.588  2.974  5.552  2.026\n",
            "\n"
          ],
          "name": "stdout"
        },
        {
          "output_type": "stream",
          "text": [
            "/usr/local/lib/python3.6/dist-packages/sklearn/preprocessing/label.py:219: DataConversionWarning: A column-vector y was passed when a 1d array was expected. Please change the shape of y to (n_samples, ), for example using ravel().\n",
            "  y = column_or_1d(y, warn=True)\n",
            "/usr/local/lib/python3.6/dist-packages/sklearn/preprocessing/label.py:252: DataConversionWarning: A column-vector y was passed when a 1d array was expected. Please change the shape of y to (n_samples, ), for example using ravel().\n",
            "  y = column_or_1d(y, warn=True)\n"
          ],
          "name": "stderr"
        }
      ]
    },
    {
      "metadata": {
        "id": "Gy4hBKDoaje_",
        "colab_type": "text"
      },
      "cell_type": "markdown",
      "source": [
        "# New Section"
      ]
    },
    {
      "metadata": {
        "id": "s-4ySS1taeG8",
        "colab_type": "text"
      },
      "cell_type": "markdown",
      "source": [
        ""
      ]
    }
  ]
}