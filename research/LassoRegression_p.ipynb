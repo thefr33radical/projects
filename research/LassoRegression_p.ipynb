{
  "nbformat": 4,
  "nbformat_minor": 0,
  "metadata": {
    "colab": {
      "name": "LassoRegression_p.ipynb",
      "version": "0.3.2",
      "provenance": [],
      "include_colab_link": true
    },
    "kernelspec": {
      "name": "python3",
      "display_name": "Python 3"
    }
  },
  "cells": [
    {
      "cell_type": "markdown",
      "metadata": {
        "id": "view-in-github",
        "colab_type": "text"
      },
      "source": [
        "<a href=\"https://colab.research.google.com/github/thefr33radical/projects/blob/master/research/LassoRegression_p.ipynb\" target=\"_parent\"><img src=\"https://colab.research.google.com/assets/colab-badge.svg\" alt=\"Open In Colab\"/></a>"
      ]
    },
    {
      "metadata": {
        "id": "UA1gE0fG4q5S",
        "colab_type": "text"
      },
      "cell_type": "markdown",
      "source": [
        "# Lasso Regression\n",
        "\n",
        "The goal \n",
        "\n",
        "*   implement Lasso Regression from scratch.\n",
        "*   find out the use cases, advantages and disadvantages.\n",
        "*   measure the performance of the model.\n",
        "\n",
        "## References\n",
        "\n",
        "http://datacognizant.com/wp-content/uploads/2017/03/Lasso_coordinate_descent-1.html\n",
        "\n",
        "\n",
        "\n"
      ]
    },
    {
      "metadata": {
        "id": "0J9_MYp55aDt",
        "colab_type": "code",
        "colab": {}
      },
      "cell_type": "code",
      "source": [
        "\n",
        "import numpy as np\n",
        "import pandas pd\n",
        "import os\n",
        "import io\n",
        "from google.colab import files\n",
        "from sklearn.preprocessing import StandardScaler\n",
        "\n",
        "\n",
        "class LassoRegression_P(object):\n",
        "  \"\"\"\n",
        "  Class implementing various modules of Lasso Regression\n",
        "  \"\"\"\n",
        "  \n",
        "  def predict(self,data,weight_vector,theta,lamda):\n",
        "    \"\"\"\n",
        "    Function to compute y\n",
        "    return : <numpy array> \n",
        "    \"\"\"\n",
        "    x_var = data.iloc[:,:-1]\n",
        "    y = []\n",
        "    \n",
        "    # Lasso Regression Formula\n",
        "    for i in range(len(x_var)):\n",
        "        y.append(np.dot(weight_vector,x_var[i])+theta + (lamba * sum(weight_vector))) \n",
        "    return np.array(y)\n",
        "      \n",
        "  def link_function(self):\n",
        "    \"\"\"\n",
        "    \n",
        "    \"\"\"\n",
        "    pass\n",
        "  \n",
        "  def cost_function(self,data,y_predicted,lamda, weight_vector):\n",
        "    \"\"\"\n",
        "    Compute cost function\n",
        "    \"\"\"\n",
        "    y_actual = data.iloc[:,-1]\n",
        "    return np.mean(  (y_actual - y_predicted)^2  + (lamba * sum(weight_vector)) ) \n",
        "  \n",
        "  def compute_ro(self,data,y_predicted,lamda, weight_vector):\n",
        "    \"\"\"\n",
        "    \n",
        "    \"\"\"\n",
        "    ro =[]\n",
        "    y_actual = data.iloc[:,-1]\n",
        "    x_var = data.iloc[:,:-1]\n",
        "    \n",
        "    for i in range(len(weight_vector)-1):\n",
        "      ro.append( sum(  x_var.iloc[:,-1] * ( (y_actual - y_predicted) + weight_vector[i] * x_var.iloc[:,-1]    )))\n",
        "    \n",
        "    return ro\n",
        "  \n",
        "  def single_coordinate_gradient_descent_step(self,data,y_predicted,lamda, weight_vector):\n",
        "    \"\"\"\n",
        "    \n",
        "    \"\"\"\n",
        "    ro = self.compute_ro(self,data,y_predicted,lamda, weight_vector)\n",
        "    for i in range(len(weight_vector)):\n",
        "      if ro[i] < -lamda/2:\n",
        "        new_weights[i]+ = lamda/2\n",
        "      if ro[i] > lamda/2:\n",
        "         new_weights[i]- = lamda/2        \n",
        "      else:\n",
        "         new_weights[i]=0        \n",
        "    return  new_weights     \n",
        "        \n",
        "  def train(self,data):\n",
        "    \"\"\"\n",
        "    \n",
        "    \n",
        "    \"\"\"\n",
        "    new_weights =[0]*len(data.columns)-1\n",
        "    old_weights = np.random.normal(-1,1,len(data.columns)-1)    \n",
        "    \n",
        "    \n",
        "    pass\n",
        "\n",
        "if __name__ == \"__main__\":\n",
        "  obj =LassoRegression_P()\n",
        "  try:\n",
        "    data = files.upload()\n",
        "    filename = \"\"\n",
        "    dataset = pd.read_csv(io.BYTES(data[filename])\n",
        "    obj.train(data)\n",
        "  except Exception as e:\n",
        "    print(\"e\")\n",
        "\n"
      ],
      "execution_count": 0,
      "outputs": []
    },
    {
      "metadata": {
        "id": "KFz9M9R1bVA8",
        "colab_type": "code",
        "colab": {
          "base_uri": "https://localhost:8080/",
          "height": 299
        },
        "outputId": "5a4c7478-662c-4227-e47e-4702cec3d4cf"
      },
      "cell_type": "code",
      "source": [
        "import graphlab"
      ],
      "execution_count": 1,
      "outputs": [
        {
          "output_type": "error",
          "ename": "ModuleNotFoundError",
          "evalue": "ignored",
          "traceback": [
            "\u001b[0;31m---------------------------------------------------------------------------\u001b[0m",
            "\u001b[0;31mModuleNotFoundError\u001b[0m                       Traceback (most recent call last)",
            "\u001b[0;32m<ipython-input-1-986a457431da>\u001b[0m in \u001b[0;36m<module>\u001b[0;34m()\u001b[0m\n\u001b[0;32m----> 1\u001b[0;31m \u001b[0;32mimport\u001b[0m \u001b[0mgraphlab\u001b[0m\u001b[0;34m\u001b[0m\u001b[0;34m\u001b[0m\u001b[0m\n\u001b[0m",
            "\u001b[0;31mModuleNotFoundError\u001b[0m: No module named 'graphlab'",
            "",
            "\u001b[0;31m---------------------------------------------------------------------------\u001b[0;32m\nNOTE: If your import is failing due to a missing package, you can\nmanually install dependencies using either !pip or !apt.\n\nTo view examples of installing some common dependencies, click the\n\"Open Examples\" button below.\n\u001b[0;31m---------------------------------------------------------------------------\u001b[0m\n"
          ]
        }
      ]
    }
  ]
}