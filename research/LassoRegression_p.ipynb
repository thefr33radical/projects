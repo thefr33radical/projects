{
  "nbformat": 4,
  "nbformat_minor": 0,
  "metadata": {
    "colab": {
      "name": "LassoRegression_p.ipynb",
      "version": "0.3.2",
      "provenance": [],
      "include_colab_link": true
    },
    "kernelspec": {
      "name": "python3",
      "display_name": "Python 3"
    }
  },
  "cells": [
    {
      "cell_type": "markdown",
      "metadata": {
        "id": "view-in-github",
        "colab_type": "text"
      },
      "source": [
        "<a href=\"https://colab.research.google.com/github/thefr33radical/projects/blob/master/research/LassoRegression_p.ipynb\" target=\"_parent\"><img src=\"https://colab.research.google.com/assets/colab-badge.svg\" alt=\"Open In Colab\"/></a>"
      ]
    },
    {
      "metadata": {
        "id": "UA1gE0fG4q5S",
        "colab_type": "text"
      },
      "cell_type": "markdown",
      "source": [
        "# Lasso Regression\n",
        "\n",
        "The goal \n",
        "\n",
        "*   implement Lasso Regression from scratch.\n",
        "*   find out the use cases, advantages and disadvantages.\n",
        "*   measure the performance of the model.\n",
        "\n",
        "## References\n",
        "\n",
        "http://datacognizant.com/wp-content/uploads/2017/03/Lasso_coordinate_descent-1.html\n",
        "\n",
        "\n",
        "\n"
      ]
    },
    {
      "metadata": {
        "id": "0J9_MYp55aDt",
        "colab_type": "code",
        "colab": {}
      },
      "cell_type": "code",
      "source": [
        "\n",
        "import numpy as np\n",
        "import pandas pd\n",
        "import os\n",
        "import io\n",
        "from google.colab import files\n",
        "\n",
        "\n",
        "class LassoRegression_P(object):\n",
        "  \n",
        "  def link_function(self):\n",
        "    \"\"\"\n",
        "    \n",
        "    \"\"\"\n",
        "    pass\n",
        "  \n",
        "  def cost_function(self):\n",
        "    \"\"\"\n",
        "    \n",
        "    \"\"\"\n",
        "    pass\n",
        "  \n",
        "  def train(self,data):\n",
        "    \"\"\"\n",
        "    \n",
        "    \n",
        "    \"\"\"\n",
        "    \n",
        "    pass\n",
        "\n",
        "if __name__ == \"__main__\":\n",
        "  obj =LassoRegression_P()\n",
        "  data = files.upload()\n",
        "  filename = \"\"\n",
        "  dataset = pd.read_csv(io.BYTES(data[filename])\n",
        "  obj.train(data)\n",
        "  \n",
        "\n"
      ],
      "execution_count": 0,
      "outputs": []
    }
  ]
}