{
  "nbformat": 4,
  "nbformat_minor": 0,
  "metadata": {
    "colab": {
      "name": "hypothesis_test.py",
      "version": "0.3.2",
      "provenance": [],
      "collapsed_sections": [],
      "include_colab_link": true
    },
    "kernelspec": {
      "name": "python3",
      "display_name": "Python 3"
    }
  },
  "cells": [
    {
      "cell_type": "markdown",
      "metadata": {
        "id": "view-in-github",
        "colab_type": "text"
      },
      "source": [
        "<a href=\"https://colab.research.google.com/github/thefr33radical/projects/blob/master/research/hypothesis_test.ipynb\" target=\"_parent\"><img src=\"https://colab.research.google.com/assets/colab-badge.svg\" alt=\"Open In Colab\"/></a>"
      ]
    },
    {
      "metadata": {
        "id": "LpF5KjrbXFjt",
        "colab_type": "code",
        "colab": {}
      },
      "cell_type": "code",
      "source": [
        "\n",
        "Hypothesis testing is the verification of the assumption of population parameter such as mean or standard deviation, whether this assumption is either true or false.It is defined as the formal procedure used by a statistician to accept or reject a statistical hypothesis.\n",
        "\n",
        "The best way to determine the correctness of the statistical hypothesis is to examine the entire population. However this is quite impractical.We examine a random sample from the population if the data is not consistent with the population then we reject the statistical hypothesis about the populations.\n",
        "\n",
        "\n",
        "For eg:    We need to determine whether a dice is fair or not.  Null hypothesis states that the 6 numbers have equal chances of coming up.  Alternate hypothesis states that the chances of each of the numbers coming up are unequal.    In 60 trials we expect 1/6 outcomes for each number such that P= 1/6 . However during trials if it happens such that P!=1/6 for any number on dice we reject null hypothesis.   \n",
        "\n",
        " Statistical hypothesis is of two types: \n",
        "\n",
        " Null Hypothesis \n",
        "Alternate Hypothesis.\n",
        "Hypothesis testing comprises of four steps:  1. State null and alternate hypothesis. Both of them should be mutually exclusive such that if one is true then the other should be False.  2. Formulate analysis plan - describes how to use sample data to evaluate null hypothesis which usually revolves around a single test metric.  3. Analyze sample data. Find the value of the test stastistic(mean,z-score etc)  4. Interpret results.\n",
        "\n",
        "\n",
        "There are two types of decesion erors: \n",
        "\n",
        " Type 1 Error False Negatives, significance level, the p of commiting type1 error is alpha test  \n",
        " Type 2 Error False Positives, the p of commiting type1 error is beta test, the P of not commiting type 2 error is called power  \n",
        "\n",
        "\n"
      ],
      "execution_count": 0,
      "outputs": []
    },
    {
      "metadata": {
        "id": "ejNAQqOMb7FZ",
        "colab_type": "text"
      },
      "cell_type": "markdown",
      "source": [
        "def hypothesis_test():"
      ]
    },
    {
      "metadata": {
        "id": "sdZXNNCudnQA",
        "colab_type": "code",
        "colab": {}
      },
      "cell_type": "code",
      "source": [
        "def hypothesis_test(null_hypothesis, alternate_hypothesis):\n",
        "  \"\"\"\n",
        "  \n",
        "  \"\"\"\n",
        "  if(null_hpothesis==alternate_hypothesis):\n",
        "    break\n",
        "  else:\n",
        "    print(\"Not ACCEPTED\")\n",
        "  \n",
        "  "
      ],
      "execution_count": 0,
      "outputs": []
    }
  ]
}