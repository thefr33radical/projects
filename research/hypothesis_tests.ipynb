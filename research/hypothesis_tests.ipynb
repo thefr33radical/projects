{
  "nbformat": 4,
  "nbformat_minor": 0,
  "metadata": {
    "colab": {
      "name": "hypothesis_tests.ipynb",
      "version": "0.3.2",
      "provenance": [],
      "include_colab_link": true
    },
    "kernelspec": {
      "name": "python3",
      "display_name": "Python 3"
    }
  },
  "cells": [
    {
      "cell_type": "markdown",
      "metadata": {
        "id": "view-in-github",
        "colab_type": "text"
      },
      "source": [
        "<a href=\"https://colab.research.google.com/github/thefr33radical/projects/blob/master/research/hypothesis_tests.ipynb\" target=\"_parent\"><img src=\"https://colab.research.google.com/assets/colab-badge.svg\" alt=\"Open In Colab\"/></a>"
      ]
    },
    {
      "metadata": {
        "id": "LpF5KjrbXFjt",
        "colab_type": "code",
        "colab": {}
      },
      "cell_type": "code",
      "source": [
        "Hypothesis testing\n",
        "\n",
        "Hypothesis testing is the verification of the assumption of popluation parameter such as mean or standard deviation, whether this assumption is either true or false.\n",
        "It is defined as the formal procedure used by a statisticain to accept or reject a statistical hypothesis.\n",
        "\n",
        "The best way to determine the correctness of the statsitical hypothesis is to examine the entire population. However this is quite impractical.\n",
        "We examine a random sample from the popluation if the data is not consistent with the population then we reject the statistical hypothesis about the polpulation.\n",
        "\n",
        "Statistical hypothesis is of two types:\n",
        "  1. Null Hypothesis\n",
        "  2. ALternate Hypothesis.\n",
        "  \n",
        "\n",
        "\n",
        "\n",
        "\n"
      ],
      "execution_count": 0,
      "outputs": []
    },
    {
      "metadata": {
        "id": "ejNAQqOMb7FZ",
        "colab_type": "text"
      },
      "cell_type": "markdown",
      "source": [
        "def hypothesis_test():"
      ]
    },
    {
      "metadata": {
        "id": "sdZXNNCudnQA",
        "colab_type": "code",
        "colab": {}
      },
      "cell_type": "code",
      "source": [
        "def hypothesis_test(null_hypothesis, alternate_hypothesis):\n",
        "  \"\"\"\n",
        "  \n",
        "  \"\"\"\n",
        "  if(null_hpothesis==alternate_hypothesis):\n",
        "    break\n",
        "  else:\n",
        "    print(\"Not ACCEPTED\")\n",
        "  \n",
        "  "
      ],
      "execution_count": 0,
      "outputs": []
    }
  ]
}