{
  "nbformat": 4,
  "nbformat_minor": 0,
  "metadata": {
    "colab": {
      "name": "linear_regression.ipynb",
      "version": "0.3.2",
      "provenance": [],
      "collapsed_sections": [],
      "include_colab_link": true
    },
    "kernelspec": {
      "name": "python3",
      "display_name": "Python 3"
    }
  },
  "cells": [
    {
      "cell_type": "markdown",
      "metadata": {
        "id": "view-in-github",
        "colab_type": "text"
      },
      "source": [
        "<a href=\"https://colab.research.google.com/github/thefr33radical/projects/blob/master/research/linear_regression.ipynb\" target=\"_parent\"><img src=\"https://colab.research.google.com/assets/colab-badge.svg\" alt=\"Open In Colab\"/></a>"
      ]
    },
    {
      "metadata": {
        "id": "q95zjTkespJg",
        "colab_type": "code",
        "colab": {}
      },
      "cell_type": "code",
      "source": [
        ""
      ],
      "execution_count": 0,
      "outputs": []
    },
    {
      "metadata": {
        "id": "k_6j1aM3stas",
        "colab_type": "text"
      },
      "cell_type": "markdown",
      "source": [
        "### Implementation  of Linear Regression using Least Squares method.  Optimization function is Gradient Descent.\n"
      ]
    },
    {
      "metadata": {
        "id": "HFQ2upKuxF9G",
        "colab_type": "code",
        "outputId": "7e2e5231-d476-4907-85e3-fe7bf3092158",
        "colab": {
          "base_uri": "https://localhost:8080/",
          "height": 71
        }
      },
      "cell_type": "code",
      "source": [
        "import pandas as pd\n",
        "import numpy as np\n",
        "from sklearn.datasets import load_boston\n",
        "\n",
        "def get_dataset():\n",
        "  \"\"\"\n",
        "  Define/ load dataset here\n",
        "  \"\"\"  \n",
        "  dataset = load_boston()\n",
        "  boston_data = pd.DataFrame(dataset.data, columns = dataset.feature_names)\n",
        "  boston_data[\"y\"] = dataset.target\n",
        "  return boston_data.iloc[:5,:]\n",
        "   \n",
        "                 \n",
        "def statistical_computation(dataset):\n",
        "  \"\"\"\n",
        "  coefffecients are computed using the formula\n",
        "  \n",
        "  Y = MX + b\n",
        "  \n",
        "  m = Sum((xi - xm) X ( yi - ym )) / Sum( (xi - x)^2 )\n",
        "  b = ym - m X xm\n",
        "  \n",
        "  \n",
        "  \"\"\"\n",
        "  if len(dataset.columns) < 2:\n",
        "    return\n",
        "  #print(dataset)\n",
        "  #y = np.array(dataset.iloc[:,-1].copy())\n",
        "  data = np.array(dataset.as_matrix())\n",
        "  col_len = data.shape[1]\n",
        "  #print(col_len,data.shape)\n",
        "                 \n",
        "  ymean = sum(data[:,-1])/len(data)\n",
        "  ysub_ymean = np.array(data[:,-1]) - ymean\n",
        " \n",
        "  \n",
        "  coeff_arr = []\n",
        "  \n",
        "  for i in range(0,col_len-1):\n",
        "    \n",
        "    #print(data[:,i])\n",
        "    present_x = data[:,i]\n",
        "    xmean = sum(present_x)/len(data)\n",
        "    coeff_arr.append(sum( (present_x - xmean ) * ysub_ymean )  / sum( (present_x - xmean )**2 ))\n",
        "  #b = Sum((coeff_arr/len(data))\n",
        "  print(coeff_arr)\n",
        "    \n",
        "  \n",
        "                 \n",
        "                 \n",
        "def least_squares(dataset):\n",
        "  \"\"\"\n",
        "  Function which computes the cost function of Linear Regression using Loss Function least squares\n",
        "  \"\"\"\n",
        "  n_samples = len(dataset)\n",
        "  dataset = dataset.reset_index(drop = True)\n",
        "  \n",
        "  y = dataset[\"y\"]\n",
        "  features = dataset.copy()\n",
        "  features.drop([\"y\"],axis=1, inplace =True)\n",
        "  \n",
        "  \n",
        "  features = features.T\n",
        "  print(features)\n",
        "  features = np.array(features.as_matrix())\n",
        "  print(features)\n",
        "\n",
        "                           \n",
        "                 \n",
        "                 \n",
        "     \n",
        "     \n",
        "                 \n",
        "  \n",
        "  \n",
        "if __name__==\"__main__\":\n",
        "  data = get_dataset()\n",
        "  statistical_computation(data)\n",
        "  "
      ],
      "execution_count": 51,
      "outputs": [
        {
          "output_type": "stream",
          "text": [
            "[193.86929920266243, -0.41527777777777775, -0.6622391618568849, nan, -113.71130404279566, 19.07921991278757, -0.437042117101012, 5.597635022226929, 5.578571428571429, -0.140263272410792, 3.0398867730313963, -1.9719592826208416, -2.0038293027909058]\n"
          ],
          "name": "stdout"
        },
        {
          "output_type": "stream",
          "text": [
            "/usr/local/lib/python3.6/dist-packages/ipykernel_launcher.py:46: RuntimeWarning: invalid value encountered in double_scalars\n"
          ],
          "name": "stderr"
        }
      ]
    },
    {
      "metadata": {
        "id": "7LrtPpOjgDIH",
        "colab_type": "code",
        "colab": {}
      },
      "cell_type": "code",
      "source": [
        ""
      ],
      "execution_count": 0,
      "outputs": []
    },
    {
      "metadata": {
        "id": "-C76SIx-f_cO",
        "colab_type": "code",
        "colab": {}
      },
      "cell_type": "code",
      "source": [
        ""
      ],
      "execution_count": 0,
      "outputs": []
    }
  ]
}