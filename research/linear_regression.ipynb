{
  "nbformat": 4,
  "nbformat_minor": 0,
  "metadata": {
    "colab": {
      "name": "linear_regression.ipynb",
      "version": "0.3.2",
      "provenance": [],
      "include_colab_link": true
    },
    "kernelspec": {
      "name": "python3",
      "display_name": "Python 3"
    }
  },
  "cells": [
    {
      "cell_type": "markdown",
      "metadata": {
        "id": "view-in-github",
        "colab_type": "text"
      },
      "source": [
        "<a href=\"https://colab.research.google.com/github/thefr33radical/projects/blob/master/research/linear_regression.ipynb\" target=\"_parent\"><img src=\"https://colab.research.google.com/assets/colab-badge.svg\" alt=\"Open In Colab\"/></a>"
      ]
    },
    {
      "metadata": {
        "id": "q95zjTkespJg",
        "colab_type": "code",
        "colab": {}
      },
      "cell_type": "code",
      "source": [
        ""
      ],
      "execution_count": 0,
      "outputs": []
    },
    {
      "metadata": {
        "id": "k_6j1aM3stas",
        "colab_type": "text"
      },
      "cell_type": "markdown",
      "source": [
        "### Implementation  of Linear Regression using Least Squares method.  Optimization function is Gradient Descent.\n"
      ]
    },
    {
      "metadata": {
        "id": "HFQ2upKuxF9G",
        "colab_type": "code",
        "colab": {}
      },
      "cell_type": "code",
      "source": [
        "\n",
        "\n",
        "def least_squares(x_train,y_train):\n",
        "  \"\"\"\n",
        "  Function which computes the cost function of Linear Regression using Loss Function least squares\n",
        "  \"\"\"\n",
        "  n_samples = len(x_train)\n",
        "  yp = 0\n",
        "  \n",
        "  \n",
        "  \n",
        "  y_predicted = (yp)/n_samples\n",
        "  return y_predicted\n",
        "  \n",
        "  "
      ],
      "execution_count": 0,
      "outputs": []
    }
  ]
}