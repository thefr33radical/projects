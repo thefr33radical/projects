{
 "cells": [
  {
   "cell_type": "markdown",
   "metadata": {
    "collapsed": true
   },
   "source": [
    "### Variance is the spread of the data.\n",
    "\n",
    "### Var(X) = Σ ( Xi - X )2 / N = Σ xi2 / N\n",
    "\n",
    "### Covariance is the measure to which corresponding elements from two sets of data move in the same direction.\n",
    "\n",
    "#### Cov(X, Y) = Σ ( Xi - X ) ( Yi - Y ) / N = Σ xiyi / N"
   ]
  },
  {
   "cell_type": "markdown",
   "metadata": {},
   "source": [
    "\n",
    "V = \t\n",
    "Σ x12 / N    \tΣ x1 x2 / N    \t. . .    \tΣ x1 xc / N\t\n",
    "Σ x2 x1 / N    \tΣ x22 / N    \t. . .    \tΣ x2 xc / N\n",
    ". . .    \t. . .    \t. . .    \t. . .\n",
    "Σ xc x1 / N    \tΣ xc x2 / N    \t. . .    \tΣ xc2 / N\n"
   ]
  }
 ],
 "metadata": {
  "kernelspec": {
   "display_name": "Python 2",
   "language": "python",
   "name": "python2"
  },
  "language_info": {
   "codemirror_mode": {
    "name": "ipython",
    "version": 2
   },
   "file_extension": ".py",
   "mimetype": "text/x-python",
   "name": "python",
   "nbconvert_exporter": "python",
   "pygments_lexer": "ipython2",
   "version": "2.7.6"
  }
 },
 "nbformat": 4,
 "nbformat_minor": 0
}
